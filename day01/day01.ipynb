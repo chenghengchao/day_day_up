{
 "cells": [
  {
   "cell_type": "markdown",
   "metadata": {},
   "source": [
    "#### day01\n",
    "- 以%开头的命令称为魔法命令(magic)\n",
    "- 魔法命令load，加载py文件的内容到notebook，加载完之后会自动注释本行"
   ]
  },
  {
   "cell_type": "code",
   "execution_count": 7,
   "metadata": {},
   "outputs": [],
   "source": [
    "# %load forloop.py\n",
    "for i in range(10):\n",
    "    print('❤' * i)"
   ]
  },
  {
   "cell_type": "markdown",
   "metadata": {},
   "source": [
    "- 魔法命令run，不加载文件内容，直接运行py文件"
   ]
  },
  {
   "cell_type": "code",
   "execution_count": 8,
   "metadata": {},
   "outputs": [
    {
     "name": "stdout",
     "output_type": "stream",
     "text": [
      "\n",
      "❤\n",
      "❤❤\n",
      "❤❤❤\n",
      "❤❤❤❤\n",
      "❤❤❤❤❤\n",
      "❤❤❤❤❤❤\n",
      "❤❤❤❤❤❤❤\n",
      "❤❤❤❤❤❤❤❤\n",
      "❤❤❤❤❤❤❤❤❤\n"
     ]
    }
   ],
   "source": [
    "%run forloop.py"
   ]
  },
  {
   "cell_type": "code",
   "execution_count": null,
   "metadata": {},
   "outputs": [],
   "source": []
  }
 ],
 "metadata": {
  "kernelspec": {
   "display_name": "Python 3",
   "language": "python",
   "name": "python3"
  },
  "language_info": {
   "codemirror_mode": {
    "name": "ipython",
    "version": 3
   },
   "file_extension": ".py",
   "mimetype": "text/x-python",
   "name": "python",
   "nbconvert_exporter": "python",
   "pygments_lexer": "ipython3",
   "version": "3.7.4"
  }
 },
 "nbformat": 4,
 "nbformat_minor": 4
}
